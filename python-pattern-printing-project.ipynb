{
 "cells": [
  {
   "cell_type": "raw",
   "id": "affe4727",
   "metadata": {},
   "source": [
    "#1: Simple Number Triangle Pattern"
   ]
  },
  {
   "cell_type": "code",
   "execution_count": 1,
   "id": "0d53ca16",
   "metadata": {},
   "outputs": [
    {
     "name": "stdout",
     "output_type": "stream",
     "text": [
      "Enter length (1-9): 5\n",
      "1\n",
      "2 2\n",
      "3 3 3\n",
      "4 4 4 4\n",
      "5 5 5 5 5\n"
     ]
    }
   ],
   "source": [
    "def Triangle():\n",
    "    N = int(input(\"Enter length (1-9): \"))\n",
    "    if 0<N<10:   \n",
    "        for i in range(1,N+1):\n",
    "            res = (str(i)+\" \")*i\n",
    "            print(res.strip())\n",
    "    else:\n",
    "        print(\"Invalid input. Length must be 1-9. Please try again\")\n",
    "        Triangle()\n",
    "Triangle()\n"
   ]
  },
  {
   "cell_type": "raw",
   "id": "33f343dd",
   "metadata": {},
   "source": [
    "#2: Inverted Pyramid of Numbers"
   ]
  },
  {
   "cell_type": "code",
   "execution_count": 2,
   "id": "e2373f34",
   "metadata": {},
   "outputs": [
    {
     "name": "stdout",
     "output_type": "stream",
     "text": [
      "Enter length (1-9): 5\n",
      "1 1 1 1 1\n",
      "2 2 2 2\n",
      "3 3 3\n",
      "4 4\n",
      "5\n"
     ]
    }
   ],
   "source": [
    "def InvertedPyramid():\n",
    "    N = int(input(\"Enter length (1-9): \"))\n",
    "    if 0<N<10:   \n",
    "        for i in range(1,N+1):\n",
    "            res = (str(i)+\" \")*(N+1-i)\n",
    "            print(res.strip())\n",
    "    else:\n",
    "        print(\"Invalid input. Length must be 1-9. Please try again\")\n",
    "        InvertedPyramid()\n",
    "InvertedPyramid()"
   ]
  },
  {
   "cell_type": "raw",
   "id": "b500dabe",
   "metadata": {},
   "source": [
    "#3: Half Pyramid Pattern of Numbers"
   ]
  },
  {
   "cell_type": "code",
   "execution_count": 3,
   "id": "116ff8d9",
   "metadata": {},
   "outputs": [
    {
     "name": "stdout",
     "output_type": "stream",
     "text": [
      "Enter length (1-9): 5\n",
      "1\n",
      "1 2\n",
      "1 2 3\n",
      "1 2 3 4\n",
      "1 2 3 4 5\n"
     ]
    }
   ],
   "source": [
    "def HalfPyramid():\n",
    "    N = int(input(\"Enter length (1-9): \"))\n",
    "    if 0<N<10:   \n",
    "        for i in range(1,N+1):\n",
    "            res = \" \".join([str(i) for i in range(1,i+1)])\n",
    "            print(res)\n",
    "    else:\n",
    "        print(\"Invalid input. Length must be 1-9. Please try again\")\n",
    "        HalfPyramid()\n",
    "HalfPyramid()"
   ]
  },
  {
   "cell_type": "raw",
   "id": "f9f6280e",
   "metadata": {},
   "source": [
    "#4: Inverted Pyramid of Descending Numbers"
   ]
  },
  {
   "cell_type": "code",
   "execution_count": 4,
   "id": "54a80fea",
   "metadata": {},
   "outputs": [
    {
     "name": "stdout",
     "output_type": "stream",
     "text": [
      "Enter length (1-9): 5\n",
      "5 5 5 5 5\n",
      "4 4 4 4\n",
      "3 3 3\n",
      "2 2\n",
      "1\n"
     ]
    }
   ],
   "source": [
    "def InvertedPyramidDescendingNum():\n",
    "    N = int(input(\"Enter length (1-9): \"))\n",
    "    if 0<N<10:   \n",
    "        for i in range(N,0,-1):\n",
    "            res = (str(i)+\" \")*(i)\n",
    "            print(res.strip())\n",
    "    else:\n",
    "        print(\"Invalid input. Length must be 1-9. Please try again\")\n",
    "        InvertedPyramidDescendingNum()\n",
    "InvertedPyramidDescendingNum()"
   ]
  },
  {
   "cell_type": "raw",
   "id": "629c5dc4",
   "metadata": {},
   "source": [
    "#5: Inverted Pyramid of the Same Digit"
   ]
  },
  {
   "cell_type": "code",
   "execution_count": 5,
   "id": "e4fda7e3",
   "metadata": {},
   "outputs": [
    {
     "name": "stdout",
     "output_type": "stream",
     "text": [
      "Enter length (1-9): 5\n",
      "5 5 5 5 5\n",
      "5 5 5 5\n",
      "5 5 5\n",
      "5 5\n",
      "5\n"
     ]
    }
   ],
   "source": [
    "def InvertedPyramidSameDigit():\n",
    "    N = int(input(\"Enter length (1-9): \"))\n",
    "    if 0<N<10:   \n",
    "        for i in range(N,0,-1):\n",
    "            res = (str(N)+\" \")*i\n",
    "            print(res.strip())\n",
    "    else:\n",
    "        print(\"Invalid input. Length must be 1-9. Please try again\")\n",
    "        InvertedPyramidSameDigit()\n",
    "InvertedPyramidSameDigit()"
   ]
  },
  {
   "cell_type": "raw",
   "id": "6ef7887b",
   "metadata": {},
   "source": [
    "#6: Reverse Pyramid of Numbers"
   ]
  },
  {
   "cell_type": "code",
   "execution_count": 6,
   "id": "1f596d4a",
   "metadata": {},
   "outputs": [
    {
     "name": "stdout",
     "output_type": "stream",
     "text": [
      "Enter length (1-9): 5\n",
      "1\n",
      "2 1\n",
      "3 2 1\n",
      "4 3 2 1\n",
      "5 4 3 2 1\n"
     ]
    }
   ],
   "source": [
    "def ReversePyramid():\n",
    "    N = int(input(\"Enter length (1-9): \"))\n",
    "    if 0<N<10:   \n",
    "        for i in range(1,N+1):\n",
    "            res = \" \".join([str(i) for i in range(i,0,-1)])\n",
    "            print(res)\n",
    "    else:\n",
    "        print(\"Invalid input. Length must be 1-9. Please try again\")\n",
    "        ReversePyramid()\n",
    "ReversePyramid()\n"
   ]
  },
  {
   "cell_type": "raw",
   "id": "fe651d93",
   "metadata": {},
   "source": [
    "#7: Inverted Half Pyramid Number Pattern"
   ]
  },
  {
   "cell_type": "code",
   "execution_count": 7,
   "id": "8af8d64c",
   "metadata": {},
   "outputs": [
    {
     "name": "stdout",
     "output_type": "stream",
     "text": [
      "Enter length (1-9): 5\n",
      "0 1 2 3 4 5\n",
      "0 1 2 3 4\n",
      "0 1 2 3\n",
      "0 1 2\n",
      "0 1\n"
     ]
    }
   ],
   "source": [
    "def InvertedHalfReversePyramid():\n",
    "    N = int(input(\"Enter length (1-9): \"))\n",
    "    if 0<N<10:   \n",
    "        for i in range(N,0,-1):\n",
    "            res = \" \".join([str(i) for i in range(i+1)])\n",
    "            print(res)\n",
    "    else:\n",
    "        print(\"Invalid input. Length must be 1-9. Please try again\")\n",
    "        InvertedHalfReversePyramid()\n",
    "InvertedHalfReversePyramid()"
   ]
  },
  {
   "cell_type": "raw",
   "id": "b6a0cb51",
   "metadata": {},
   "source": [
    "#8: Pyramid of Natural Numbers (Less Than 10)"
   ]
  },
  {
   "cell_type": "code",
   "execution_count": 8,
   "id": "b171d0c0",
   "metadata": {},
   "outputs": [
    {
     "name": "stdout",
     "output_type": "stream",
     "text": [
      "1 \n",
      "2 3 4 \n",
      "5 6 7 8 9 \n"
     ]
    }
   ],
   "source": [
    "def PyramidNaturalNumbers(N=3):\n",
    "    stop = 2\n",
    "    cur = 1\n",
    "    for i in range(N):\n",
    "        for i in range(1,stop):\n",
    "            print(cur,end=\" \")\n",
    "            cur+=1\n",
    "        print(\"\")\n",
    "        stop +=2\n",
    "PyramidNaturalNumbers()"
   ]
  },
  {
   "cell_type": "raw",
   "id": "e305d004",
   "metadata": {},
   "source": [
    "#9: Reverse Pattern of Digits from 10 "
   ]
  },
  {
   "cell_type": "code",
   "execution_count": 9,
   "id": "b31ef9a6",
   "metadata": {},
   "outputs": [
    {
     "name": "stdout",
     "output_type": "stream",
     "text": [
      "1 \n",
      "3 2 \n",
      "6 5 4 \n",
      "10 9 8 7 \n"
     ]
    }
   ],
   "source": [
    "def PyramidNaturalNumbers(N=3):\n",
    "    start = 1\n",
    "    stop = 2\n",
    "    cur = stop\n",
    "    for i in range(2,6):\n",
    "        for j in range(start,stop):\n",
    "            cur-=1\n",
    "            print(cur, end=\" \")\n",
    "        print(\"\")\n",
    "        start = stop\n",
    "        stop+=i\n",
    "        cur = stop\n",
    "PyramidNaturalNumbers()"
   ]
  },
  {
   "cell_type": "raw",
   "id": "ef59c7f8",
   "metadata": {},
   "source": [
    "#10: Unique Pyramid Pattern of Digits"
   ]
  },
  {
   "cell_type": "code",
   "execution_count": 10,
   "id": "ef3ea5ad",
   "metadata": {},
   "outputs": [
    {
     "name": "stdout",
     "output_type": "stream",
     "text": [
      "Enter length (1-9): 5\n",
      "1\n",
      "1 2 1\n",
      "1 2 3 2 1\n",
      "1 2 3 4 3 2 1\n",
      "1 2 3 4 5 4 3 2 1\n"
     ]
    }
   ],
   "source": [
    "def UniquePyramid():\n",
    "    N = int(input(\"Enter length (1-9): \"))\n",
    "    if 0<N<10:  \n",
    "        for i in range(1,1+N):\n",
    "            c= \" \".join([str(n) for n in range(1,i+1)])\n",
    "            r= c[::-1]\n",
    "            print(c + r[1:])\n",
    "    else:\n",
    "        print(\"Invalid input. Length must be 1-9. Please try again\")\n",
    "        UniquePyramid()\n",
    "UniquePyramid()"
   ]
  },
  {
   "cell_type": "raw",
   "id": "3a0ad75c",
   "metadata": {},
   "source": [
    "#11: Connected Inverted Pyramid Pattern of Numbers"
   ]
  },
  {
   "cell_type": "code",
   "execution_count": 11,
   "id": "683d3cc0",
   "metadata": {},
   "outputs": [
    {
     "name": "stdout",
     "output_type": "stream",
     "text": [
      "Enter length (1-9): 5\n",
      "5 4 3 2 1 1 2 3 4 5\n",
      "5 4 3 2 2 3 4 5\n",
      "5 4 3 3 4 5\n",
      "5 4 4 5\n",
      "5 5\n"
     ]
    }
   ],
   "source": [
    "def ConnectedUniquePyramid():\n",
    "    N = int(input(\"Enter length (1-9): \"))\n",
    "    if 0<N<10:  \n",
    "        for i in range(1,N+1):\n",
    "            c= \" \".join([str(n) for n in range(5,i-1,-1)])\n",
    "            r =c[::-1]\n",
    "            print(c +\" \"+ r)\n",
    "    else:\n",
    "        print(\"Invalid input. Length must be 1-9. Please try again\")\n",
    "        ConnectedUniquePyramid()\n",
    "ConnectedUniquePyramid()"
   ]
  },
  {
   "cell_type": "raw",
   "id": "dfd1b903",
   "metadata": {},
   "source": [
    "#12: Even Number Pyramid Pattern"
   ]
  },
  {
   "cell_type": "code",
   "execution_count": 12,
   "id": "4ec16075",
   "metadata": {},
   "outputs": [
    {
     "name": "stdout",
     "output_type": "stream",
     "text": [
      "Enter the number of rows: 5\n",
      "10 \n",
      "10 8 \n",
      "10 8 6 \n",
      "10 8 6 4 \n",
      "10 8 6 4 2 \n"
     ]
    }
   ],
   "source": [
    "def EvenNumberPyramid():\n",
    "    N = int(input(\"Enter the number of rows: \"))\n",
    "    lastnumber = 2*N\n",
    "    for i in range(1,N+1):\n",
    "        even = lastnumber\n",
    "        for j in range(i):\n",
    "                print(even, end=\" \")\n",
    "                even-=2\n",
    "        print(\"\\r\")\n",
    "    \n",
    "EvenNumberPyramid()"
   ]
  },
  {
   "cell_type": "raw",
   "id": "702787a6",
   "metadata": {},
   "source": [
    "#13: Pyramid of Horizontal Tables"
   ]
  },
  {
   "cell_type": "code",
   "execution_count": 26,
   "id": "5ad2cb0e",
   "metadata": {},
   "outputs": [
    {
     "name": "stdout",
     "output_type": "stream",
     "text": [
      "Enter the number of rows: 5\n",
      "0\n",
      "0 1\n",
      "0 2 4\n",
      "0 3 6 9\n",
      "0 4 8 12 16\n"
     ]
    }
   ],
   "source": [
    "def HorizontalTablesPyramid():\n",
    "    N = int(input(\"Enter the number of rows: \"))\n",
    "    for i in range(N):\n",
    "        print(*[i*n for n in range(i+1)])\n",
    "\n",
    "    \n",
    "HorizontalTablesPyramid()"
   ]
  },
  {
   "cell_type": "raw",
   "id": "c1350aae",
   "metadata": {},
   "source": [
    "#14: Pyramid Pattern of Alternate Numbers"
   ]
  },
  {
   "cell_type": "code",
   "execution_count": 27,
   "id": "58dfa3fe",
   "metadata": {},
   "outputs": [
    {
     "name": "stdout",
     "output_type": "stream",
     "text": [
      "Enter the number of rows: 5\n",
      "1\n",
      "3 3\n",
      "5 5 5\n",
      "7 7 7 7\n",
      "9 9 9 9 9\n"
     ]
    }
   ],
   "source": [
    "def PyramidAlternateNumbers():\n",
    "    N = int(input(\"Enter the number of rows: \"))\n",
    "    if 0<N<6:  \n",
    "        curr = 1\n",
    "        for i in range(1,N+1):\n",
    "            print(((str(curr)+\" \")*i).strip())\n",
    "            curr+=2\n",
    "    else:\n",
    "        print(\"Invalid input. Length must be 1-5. Please try again\")\n",
    "        PyramidAlternateNumbers()\n",
    "    \n",
    "PyramidAlternateNumbers()"
   ]
  },
  {
   "cell_type": "raw",
   "id": "41745046",
   "metadata": {},
   "source": [
    "#15: Mirrored Pyramid (Right-angled Triangle) Pattern of Numbers"
   ]
  },
  {
   "cell_type": "code",
   "execution_count": 9,
   "id": "9318516e",
   "metadata": {},
   "outputs": [
    {
     "name": "stdout",
     "output_type": "stream",
     "text": [
      "Enter length (1-9): 40\n",
      "Invalid input. Length must be 1-9. Please try again\n",
      "Enter length (1-9): 5\n",
      "        1\n",
      "      1 2\n",
      "    1 2 3\n",
      "  1 2 3 4\n",
      "1 2 3 4 5\n"
     ]
    }
   ],
   "source": [
    "def MirroredPyramid():\n",
    "    N = int(input(\"Enter length (1-9): \"))\n",
    "    length = len(\" \".join([str(i) for i in range(1,N+1)]))\n",
    "    if 0<N<10:   \n",
    "        for i in range(1,N+1):\n",
    "            res = \" \".join([str(i) for i in range(1,i+1)])\n",
    "            print(res.rjust(length))\n",
    "    else:\n",
    "        print(\"Invalid input. Length must be 1-9. Please try again\")\n",
    "        MirroredPyramid()\n",
    "MirroredPyramid()"
   ]
  },
  {
   "cell_type": "raw",
   "id": "719b1023",
   "metadata": {},
   "source": [
    "#16: Equilateral Triangle with Stars (Asterisk Symbol)"
   ]
  },
  {
   "cell_type": "code",
   "execution_count": 1,
   "id": "53c6a29a",
   "metadata": {},
   "outputs": [
    {
     "name": "stdout",
     "output_type": "stream",
     "text": [
      "Enter length (1-40): 5\n",
      "    *    \n",
      "   * *   \n",
      "  * * *  \n",
      " * * * * \n",
      "* * * * *\n"
     ]
    }
   ],
   "source": [
    "def EquilateralTriangleStars():\n",
    "    N = int(input(\"Enter length (1-40): \"))\n",
    "    length = len((N*\"* \").strip())\n",
    "    if 0<=40:   \n",
    "        for i in range(1,N+1):\n",
    "            res = (i*\"* \").strip()\n",
    "            print(res.center(length))\n",
    "    else:\n",
    "        print(\"Invalid input. Length must be 1-40. Please try again\")\n",
    "        EquilateralTriangleStars()\n",
    "EquilateralTriangleStars()"
   ]
  },
  {
   "cell_type": "raw",
   "id": "4b75e20a",
   "metadata": {},
   "source": [
    "#17: Downward Triangle Pattern of Stars"
   ]
  },
  {
   "cell_type": "code",
   "execution_count": 2,
   "id": "eef1959b",
   "metadata": {},
   "outputs": [
    {
     "name": "stdout",
     "output_type": "stream",
     "text": [
      "Enter length (1-40): 5\n",
      "* * * * *\n",
      " * * * * \n",
      "  * * *  \n",
      "   * *   \n",
      "    *    \n"
     ]
    }
   ],
   "source": [
    "def DownwardTriangleStars():\n",
    "    N = int(input(\"Enter length (1-40): \"))\n",
    "    length = len((N*\"* \").strip())\n",
    "    if 0<=40:   \n",
    "        for i in range(N,0,-1):\n",
    "            res = (i*\"* \").strip()\n",
    "            print(res.center(length))\n",
    "    else:\n",
    "        print(\"Invalid input. Length must be 1-40. Please try again\")\n",
    "        DownwardTriangleStars()\n",
    "DownwardTriangleStars()"
   ]
  },
  {
   "cell_type": "raw",
   "id": "c7ce6b59",
   "metadata": {},
   "source": [
    "#18: Pyramid Pattern of Stars"
   ]
  },
  {
   "cell_type": "code",
   "execution_count": 3,
   "id": "05d5d3e1",
   "metadata": {},
   "outputs": [
    {
     "name": "stdout",
     "output_type": "stream",
     "text": [
      "Enter length (1-9): 5\n",
      "*\n",
      "* *\n",
      "* * *\n",
      "* * * *\n",
      "* * * * *\n"
     ]
    }
   ],
   "source": [
    "def Triangle():\n",
    "    N = int(input(\"Enter length (1-9): \"))\n",
    "    if 0<N<10:   \n",
    "        for i in range(1,N+1):\n",
    "            res = \"* \"*i\n",
    "            print(res.strip())\n",
    "    else:\n",
    "        print(\"Invalid input. Length must be 1-9. Please try again\")\n",
    "        Triangle()\n",
    "Triangle()\n"
   ]
  }
 ],
 "metadata": {
  "kernelspec": {
   "display_name": "Python 3 (ipykernel)",
   "language": "python",
   "name": "python3"
  },
  "language_info": {
   "codemirror_mode": {
    "name": "ipython",
    "version": 3
   },
   "file_extension": ".py",
   "mimetype": "text/x-python",
   "name": "python",
   "nbconvert_exporter": "python",
   "pygments_lexer": "ipython3",
   "version": "3.9.13"
  }
 },
 "nbformat": 4,
 "nbformat_minor": 5
}
